{
 "cells": [
  {
   "cell_type": "markdown",
   "metadata": {
    "id": "It_8Zv1kl9eX"
   },
   "source": [
    "# SimBi Solve\n",
    "\n",
    "[![Open In Colab](https://colab.research.google.com/assets/colab-badge.svg)](https://colab.research.google.com/github/lucashofer/simbi/blob/main/docs/notebooks/SimBi_Solve.ipynb)\n",
    "\n",
    "Often times, we need to solve for various quantities such as the temperature, or chemical potential before simulating the density of the atom cloud. Here we show how SimBi can handle this."
   ]
  },
  {
   "cell_type": "markdown",
   "metadata": {
    "id": "ayziQwXnEY_b"
   },
   "source": [
    "## Installing and Importing\n",
    "\n",
    "First we install SimBi with pip"
   ]
  },
  {
   "cell_type": "code",
   "execution_count": null,
   "metadata": {
    "colab": {
     "base_uri": "https://localhost:8080/"
    },
    "id": "rMAsUfuVtr9R",
    "outputId": "b5927a92-98f5-42fc-a73a-6df41ec3ecad"
   },
   "outputs": [],
   "source": [
    "!pip install simbi "
   ]
  },
  {
   "cell_type": "markdown",
   "metadata": {
    "id": "LX27Wg8QEfCz"
   },
   "source": [
    "Now let's install some other Python packages which we'll need."
   ]
  },
  {
   "cell_type": "code",
   "execution_count": 1,
   "metadata": {
    "id": "8coF-pvXubXp"
   },
   "outputs": [],
   "source": [
    "import numpy as np\n",
    "import matplotlib.pyplot as plt\n",
    "from scipy.constants import physical_constants\n",
    "import simbi"
   ]
  },
  {
   "cell_type": "markdown",
   "metadata": {
    "id": "jNMc8LzTEp2i"
   },
   "source": [
    "First let's define some general experimental parameters "
   ]
  },
  {
   "cell_type": "code",
   "execution_count": 2,
   "metadata": {
    "id": "tgTayxhD74wZ"
   },
   "outputs": [],
   "source": [
    "a0 = physical_constants['Bohr radius'][0]\n",
    "amu = physical_constants['atomic mass constant'][0]\n",
    "a = 100 * a0\n",
    "m = 87 * amu\n",
    "wx = 2 * np.pi * 350\n",
    "wy = 2 * np.pi * 300\n",
    "wz = 2 * np.pi * 30\n",
    "trap_freqs = (wx, wy, wz)\n",
    "t = .001"
   ]
  },
  {
   "cell_type": "markdown",
   "metadata": {
    "id": "lfq-HUhQE8K6"
   },
   "source": [
    "Now unlike the quickstart example, we have not defined either the chemical potential $\\mu$ or the temperature $T$ of our system. Sometimes we prefer to set the atom number of our system and use these to determine $\\mu$ and $T$. For instance, let's say we have a total number of atoms $N=10^5$ and a condensate fraction of $cf=0.1$. This allows us to calculate the number of atoms in the BEC $N_0$ as well as the chemical potential $\\mu$"
   ]
  },
  {
   "cell_type": "code",
   "execution_count": 3,
   "metadata": {
    "colab": {
     "base_uri": "https://localhost:8080/",
     "height": 269
    },
    "id": "ZXR3TAVeAdZT",
    "outputId": "ff648b46-f475-40b4-a4c6-eff9d1a3ad8d"
   },
   "outputs": [
    {
     "name": "stdout",
     "output_type": "stream",
     "text": [
      "7.351934405097466e-31\n"
     ]
    }
   ],
   "source": [
    "ntot = 1e5\n",
    "cf = 0.1\n",
    "nbec = cf * ntot\n",
    "mu = simbi.chemical_potential(trap_freqs, m, a, nbec)\n",
    "print(mu)"
   ]
  },
  {
   "cell_type": "markdown",
   "metadata": {
    "id": "oRYFHgN9FOZ6"
   },
   "source": [
    "Now, we can calculate the number of atoms in the thermal cloud $N_{\\text{ex}}$ and then use that to calculate the temperature of the thermal cloud"
   ]
  },
  {
   "cell_type": "code",
   "execution_count": 4,
   "metadata": {},
   "outputs": [
    {
     "name": "stdout",
     "output_type": "stream",
     "text": [
      "3.181459944797764e-07\n"
     ]
    }
   ],
   "source": [
    "nex = ntot - nbec\n",
    "T, res = simbi.get_temperature(trap_freqs, -mu, nex, tol=1e-12)\n",
    "print(T)"
   ]
  },
  {
   "cell_type": "markdown",
   "metadata": {},
   "source": [
    "There's also a SimBi function that does all this"
   ]
  },
  {
   "cell_type": "code",
   "execution_count": 21,
   "metadata": {},
   "outputs": [],
   "source": [
    "mu, T = simbi.mu_temperature(trap_freqs, m, a, ntot, cf)"
   ]
  },
  {
   "cell_type": "markdown",
   "metadata": {},
   "source": [
    "Now using $\\mu$ and $T$ we can get the density of the bimodal cloud (see the Quickstart notebook for more info on simulating densities)."
   ]
  },
  {
   "cell_type": "code",
   "execution_count": 22,
   "metadata": {
    "id": "96DbDCYqD6Ej"
   },
   "outputs": [],
   "source": [
    "all_radii = simbi.bimodal_radii(trap_freqs, m, T, a, mu, t)\n",
    "init_sigmas, t_sigmas, init_tf_radii, expans_scalars, tf_radii = all_radii\n",
    "(x,y,z), coord_maps, diff_elements, clength = simbi.get_coordinates(t_sigmas, 6, multi=True)\n",
    "coords_3d, coords_2d, coords_1d = coord_maps\n",
    "dv, da, dx = diff_elements\n",
    "\n",
    "densities_1d = simbi.bimodal_density(coords_1d, trap_freqs, m, T, a, mu, t)"
   ]
  },
  {
   "cell_type": "markdown",
   "metadata": {
    "id": "hmH0vza-Fek7"
   },
   "source": [
    "Now let's plot it"
   ]
  },
  {
   "cell_type": "code",
   "execution_count": 23,
   "metadata": {
    "colab": {
     "base_uri": "https://localhost:8080/",
     "height": 366
    },
    "id": "VoaAKKPFD8My",
    "outputId": "249ad1dd-8486-486b-e749-2f540014a2e3"
   },
   "outputs": [
    {
     "data": {
      "text/plain": [
       "<matplotlib.legend.Legend at 0x17dfc595af0>"
      ]
     },
     "execution_count": 23,
     "metadata": {},
     "output_type": "execute_result"
    },
    {
     "data": {
      "image/png": "[encoded data removed]",
      "text/plain": [
       "<Figure size 432x288 with 1 Axes>"
      ]
     },
     "metadata": {
      "needs_background": "light"
     },
     "output_type": "display_data"
    }
   ],
   "source": [
    "plabels = ['Combined', 'Excited', 'BEC']\n",
    "slicev = int(clength / 2)\n",
    "\n",
    "plt.figure()\n",
    "plt.title('1D Integrated')\n",
    "for label, density in zip(plabels, densities_1d):\n",
    "    plt.plot(x, density, label=label)\n",
    "plt.ylabel('Atom number/m')\n",
    "plt.title('1D Integrated Density')\n",
    "plt.xlabel('Meters')\n",
    "plt.legend()"
   ]
  },
  {
   "cell_type": "markdown",
   "metadata": {
    "id": "-4f682wtGx0h"
   },
   "source": [
    "However, we need to keep in mind that even that numerically solving for the temperature means that the actual atom numbers will deviate from what we defined them as"
   ]
  },
  {
   "cell_type": "code",
   "execution_count": 16,
   "metadata": {
    "id": "imOQQh05EVfW"
   },
   "outputs": [
    {
     "name": "stdout",
     "output_type": "stream",
     "text": [
      "Combined: 99999.54717601756\n",
      "Thermal: 89999.54717601766\n",
      "BEC: 9999.999999999902\n",
      "Condensed Fraction: 0.10000045282603197\n"
     ]
    }
   ],
   "source": [
    "atom_numbers = simbi.bimodal_atom_numbers(trap_freqs, m, T, a, mu)\n",
    "\n",
    "plabels = ['Combined', 'Thermal', 'BEC', 'Condensed Fraction']\n",
    "\n",
    "for num, plabel in zip(atom_numbers, plabels):\n",
    "    print(f'{plabel}: {num}')"
   ]
  },
  {
   "cell_type": "code",
   "execution_count": null,
   "metadata": {},
   "outputs": [],
   "source": []
  }
 ],
 "metadata": {
  "accelerator": "GPU",
  "colab": {
   "name": "SimBi Solve.ipynb",
   "provenance": []
  },
  "gpuClass": "premium",
  "kernelspec": {
   "display_name": "Python 3 (ipykernel)",
   "language": "python",
   "name": "python3"
  },
  "language_info": {
   "codemirror_mode": {
    "name": "ipython",
    "version": 3
   },
   "file_extension": ".py",
   "mimetype": "text/x-python",
   "name": "python",
   "nbconvert_exporter": "python",
   "pygments_lexer": "ipython3",
   "version": "3.9.13"
  }
 },
 "nbformat": 4,
 "nbformat_minor": 1
}
